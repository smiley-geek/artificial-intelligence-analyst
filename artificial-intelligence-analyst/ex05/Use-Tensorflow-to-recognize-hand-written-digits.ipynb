{
 "cells": [
  {
   "cell_type": "markdown",
   "metadata": {},
   "source": [
    "# Use Tensorflow to recognize hand-written digits with `ibm-watson-machine-learning`\n",
    "This notebook contains the steps and code to demonstrate support of Deep Learning model training and scoring in the Watson Machine Learning service. It introduces commands for data retrieval, `training_definition` persistance to Watson Machine Learning repository, model training, model persistance, model deployment and scoring.\n",
    "\n",
    "Some familiarity with [Python](https://cognitiveclass.ai/courses/python-for-data-science) is helpful. This notebook uses Python 3.6.\n",
    "\n",
    "## Learning goals\n",
    "The learning goals of this notebook are:\n",
    "-  Working with Watson Machine Learning service.\n",
    "-  Training Deep Learning models (TensorFlow).\n",
    "-  Saving trained models in Watson Machine Learning repository.\n",
    "-  Online deployment and scoring of trained model.\n",
    "\n",
    "## Contents\n",
    "This notebook contains the following parts:\n",
    "1.\t[Setup](#setup)\n",
    "2.\t[Create model definition](#model_df)\n",
    "3.\t[Train model](#training)\n",
    "4.  [Persist trained model](#persist)\n",
    "5.\t[Deploy and Score](#deploy)\n",
    "6.  [Clean up](#clean)\n",
    "7.\t[Summary and next steps](#summary)\n",
    "\n",
    "<a id=\"setup\"></a>\n",
    "## 1. Set up the environment\n",
    "\n",
    "<img src=\"https://s3.us.cloud-object-storage.appdomain.cloud/docs-resources/hmac-credential-dialog.jpg\" width=\"700\" align=\"right\" alt=\"Creating a COS service credential\"/>\n",
    "\n",
    "Before you use the sample code in this notebook, you must perform the following setup tasks:\n",
    "\n",
    "1.  Create a [Watson Machine Learning (WML) Service](https://cloud.ibm.com/catalog/services/machine-learning) instance (a free plan is offered and information about how to create the instance is [here](https://dataplatform.cloud.ibm.com/docs/content/wsj/analyze-data/wml-setup.html))\n",
    "1. Create a [Cloud Object Storage (COS)](https://cloud.ibm.com/catalog/services/cloud-object-storage) instance (a lite plan is offered and information about how to order storage is [here](https://cloud.ibm.com/docs/cloud-object-storage/basics/order-storage.html)).\n",
    "1. Create a service credential for the COS instance.\n",
    "    - In the **Service credentials** tab, click **New credential**.\n",
    "    - Expand **Advanced options**\n",
    "    - Click the **Include HMAC Credential** switch to create an [HMAC credential](https://cloud.ibm.com/docs/cloud-object-storage?topic=cloud-object-storage-uhc-hmac-credentials-main)\n",
    "    - Click **Add**.\n",
    "    - Beside the new service credential, click **Copy to clipboard**. Use this value for the `cos_credentials` variable below in the second code cell.\n",
    "1. Get the COS service endpoint:\n",
    "    - In the COS instance, click the **Endpoints** tab.\n",
    "    - Under **Select resiliency**, select **Cross Region**.\n",
    "    - Under **Select location**, select the location of your Watson Studio service instance (e.g. `eu-geo`).\n",
    "    - Copy the first endpoint under the **Public** column (e.g. `s3.eu.cloud-object-storage.appdomain.cloud`). This value will be appended to `https://` and used in the `service_endpoint` variable, in the third code cell.\n",
    "\n",
    "### 1.1 Working with Cloud Object Storage\n",
    "Use the following [libraries/packages](https://cloud.ibm.com/docs/cloud-object-storage?topic=cloud-object-storage-sdk-about) to work with IBM Cloud Object Storage (COS):\n",
    "* **ibm-cos-sdk**: library allows Python developers to manage Cloud Object Storage (COS). It can be installed from the Python Package Index through `pip install ibm-cos-sdk`."
   ]
  },
  {
   "cell_type": "code",
   "execution_count": 3,
   "metadata": {},
   "outputs": [],
   "source": [
    "import ibm_boto3\n",
    "import json\n",
    "import os\n",
    "from ibm_botocore.client import Config"
   ]
  },
  {
   "cell_type": "markdown",
   "metadata": {},
   "source": [
    "Replace the value after the '=' sign in the following cell with your COS credentials that you copied above. \n",
    "You can find these credentials in your COS instance dashboard under the **Service credentials** tab."
   ]
  },
  {
   "cell_type": "code",
   "execution_count": 4,
   "metadata": {},
   "outputs": [],
   "source": [
    "cos_credentials = {\n",
    "  \"apikey\": \"***\",\n",
    "  \"cos_hmac_keys\": {\n",
    "    \"access_key_id\": \"***\",\n",
    "    \"secret_access_key\": \"***\"\n",
    "  },\n",
    "  \"endpoints\": \"https://control.cloud-object-storage.cloud.ibm.com/v2/endpoints\",\n",
    "  \"iam_apikey_description\": \"***\",\n",
    "  \"iam_apikey_name\": \"Service credentials-1\",\n",
    "  \"iam_role_crn\": \"***\",\n",
    "  \"iam_serviceid_crn\": \"***\",\n",
    "  \"resource_instance_id\": \"***\"\n",
    "}"
   ]
  },
  {
   "cell_type": "code",
   "execution_count": 8,
   "metadata": {},
   "outputs": [],
   "source": [
    "api_key = cos_credentials['apikey']\n",
    "service_instance_id = cos_credentials['resource_instance_id']\n",
    "auth_endpoint = 'https://iam.cloud.ibm.com/identity/token'\n",
    "service_endpoint = 'https://' + 's3.eu.cloud-object-storage.appdomain.cloud'"
   ]
  },
  {
   "cell_type": "markdown",
   "metadata": {},
   "source": [
    "Create COS resource to be able to write data to Cloud Object Storage."
   ]
  },
  {
   "cell_type": "code",
   "execution_count": 9,
   "metadata": {},
   "outputs": [],
   "source": [
    "cos = ibm_boto3.resource( 's3',\n",
    "                         ibm_api_key_id = api_key,\n",
    "                         ibm_service_instance_id = service_instance_id,\n",
    "                         ibm_auth_endpoint = auth_endpoint,\n",
    "                         config=Config(signature_version='oauth'),\n",
    "                         endpoint_url = service_endpoint )"
   ]
  },
  {
   "cell_type": "markdown",
   "metadata": {},
   "source": [
    "Create the buckets (they have to have unique names) that are used to store training data and training results."
   ]
  },
  {
   "cell_type": "code",
   "execution_count": 6,
   "metadata": {},
   "outputs": [
    {
     "name": "stdout",
     "output_type": "stream",
     "text": [
      "Creating bucket \"training-data-0378f0c4-1021-47f3-b120-52bf330a41d6\"...\n",
      "Creating bucket \"training-results-0378f0c4-1021-47f3-b120-52bf330a41d6\"...\n"
     ]
    }
   ],
   "source": [
    "from uuid import uuid4\n",
    "\n",
    "bucket_uid = str(uuid4())\n",
    "buckets = ['training-data-' + bucket_uid, 'training-results-' + bucket_uid]\n",
    "\n",
    "for bucket in buckets:\n",
    "    if not cos.Bucket(bucket) in cos.buckets.all():\n",
    "        print('Creating bucket \"{}\"...'.format(bucket))\n",
    "        try:\n",
    "            cos.create_bucket(Bucket=bucket)\n",
    "        except ibm_boto3.exceptions.ibm_botocore.client.ClientError as e:\n",
    "            print('Error: {}.'.format(e.response['Error']['Message']))"
   ]
  },
  {
   "cell_type": "markdown",
   "metadata": {},
   "source": [
    "Now you have 2 buckets.\n",
    "### 1.2 Downloading training data and upload it to COS buckets.\n",
    "Download the training data and upload them to the 'training-data' bucket.\n",
    "Create the list of links for training dataset."
   ]
  },
  {
   "cell_type": "code",
   "execution_count": 7,
   "metadata": {},
   "outputs": [],
   "source": [
    "data_links = ['http://yann.lecun.com/exdb/mnist/train-images-idx3-ubyte.gz',\n",
    "              'http://yann.lecun.com/exdb/mnist/train-labels-idx1-ubyte.gz',\n",
    "              'http://yann.lecun.com/exdb/mnist/t10k-images-idx3-ubyte.gz',\n",
    "              'http://yann.lecun.com/exdb/mnist/t10k-labels-idx1-ubyte.gz']"
   ]
  },
  {
   "cell_type": "markdown",
   "metadata": {},
   "source": [
    "The following code snippet uploads files from the links to your Cloud Object Storage."
   ]
  },
  {
   "cell_type": "code",
   "execution_count": 8,
   "metadata": {},
   "outputs": [
    {
     "name": "stdout",
     "output_type": "stream",
     "text": [
      "Uploading data train-images-idx3-ubyte.gz...\n",
      "train-images-idx3-ubyte.gz is uploaded.\n",
      "Uploading data train-labels-idx1-ubyte.gz...\n",
      "train-labels-idx1-ubyte.gz is uploaded.\n",
      "Uploading data t10k-images-idx3-ubyte.gz...\n",
      "t10k-images-idx3-ubyte.gz is uploaded.\n",
      "Uploading data t10k-labels-idx1-ubyte.gz...\n",
      "t10k-labels-idx1-ubyte.gz is uploaded.\n"
     ]
    }
   ],
   "source": [
    "from urllib.request import urlopen\n",
    "\n",
    "# The training data bucket\n",
    "bucket_obj = cos.Bucket(buckets[0])\n",
    "\n",
    "for data_link in data_links:\n",
    "    filename=data_link.split('/')[-1]\n",
    "    print('Uploading data {}...'.format(filename))\n",
    "    with urlopen(data_link) as data:\n",
    "        bucket_obj.upload_fileobj(data, filename)\n",
    "        print('{} is uploaded.'.format(filename))"
   ]
  },
  {
   "cell_type": "markdown",
   "metadata": {},
   "source": [
    "Let's see the list of all created buckets and their contents."
   ]
  },
  {
   "cell_type": "code",
   "execution_count": 10,
   "metadata": {},
   "outputs": [
    {
     "name": "stdout",
     "output_type": "stream",
     "text": [
      "training-data-0378f0c4-1021-47f3-b120-52bf330a41d6\n",
      "  File: t10k-images-idx3-ubyte.gz, 1610.23 kB\n",
      "  File: t10k-labels-idx1-ubyte.gz, 4.44 kB\n",
      "  File: train-images-idx3-ubyte.gz, 9680.10 kB\n",
      "  File: train-labels-idx1-ubyte.gz, 28.20 kB\n",
      "training-results-0378f0c4-1021-47f3-b120-52bf330a41d6\n"
     ]
    }
   ],
   "source": [
    "for bucket_name in buckets:\n",
    "    print(bucket_name)\n",
    "    bucket_obj = cos.Bucket(bucket_name)\n",
    "    for obj in bucket_obj.objects.all():\n",
    "        print(\"  File: {}, {:4.2f} kB\".format( obj.key, obj.size / 1024 ))"
   ]
  },
  {
   "cell_type": "markdown",
   "metadata": {},
   "source": [
    "The model is ready to be trained.\n",
    "\n",
    "### 1.3 Connection to WML\n",
    "To authenticate to the Watson Machine Learning service on IBM Cloud. You need to provide platform `api_key` and instance `location`. You can do this in multiple ways.\n",
    "\n",
    "1. You can use [IBM Cloud CLI](https://cloud.ibm.com/docs/cli) or [IBM Cloud Shell](https://cloud.ibm.com/shell) to retrieve platform API Key and instance location.\n",
    "   * If you are using IBM Cloud CLI, run the `ibmcloud login` or `ibmcloud login --sso` command to login to IBM Cloud.\n",
    "   * Run the following command to create an API key called **WML API KEY**: `ibmcloud iam api-key-create \"WML API KEY\"`\n",
    "   * Get the value of `API Key` from the output.\n",
    "   * The location of your WML instance can be retrieved with the following command: `ibmcloud resource service-instance WML_INSTANCE_NAME` (e.g. `ibmcloud resource service-instance \"Machine Learning-do\"`)\n",
    "   * Get the value of `location` from the output (e.g. `us-south`).\n",
    "<img src=\"https://www.ibm.com/support/knowledgecenter/SSTTDS_11.0.0/com.ibm.ace.icp.doc/icp_createapikey.png\" width=\"700\" align=\"right\" alt=\"Create API key from IBM Cloud Console\"/>\n",
    "2. From IBM Cloud console:\n",
    "   * You can create API keys as follows:\n",
    "     * In [IBM Cloud](https://cloud.ibm.com), click Manage > [Access (IAM)](https://cloud.ibm.com/iam) > [API keys](https://cloud.ibm.com/iam/apikeys).\n",
    "     * Click **Create an IBM Cloud API key**.\n",
    "     * For the **Name**, enter **WML API KEY**.\n",
    "     * Copy the value of the API key in a safe place.\n",
    "   \n",
    "       For more details about creating API keys, see [Managing user API keys - Creating an API key](https://cloud.ibm.com/docs/account?topic=account-userapikey#create_user_key).\n",
    "   \n",
    "   * To get the location of the WML service instance from IBM Cloud site, follow these steps:\n",
    "     * Browse to [IBM Cloud Resource list](https://cloud.ibm.com/resources)\n",
    "     * Locate the Location of the WML service instamce.\n",
    "     * Map the location to the region name here: [Locations for resource deployment](https://cloud.ibm.com/docs/overview?topic=overview-locations#mzr-table) and get the required location from the **Region** column (e.g. **us-south**)"
   ]
  },
  {
   "cell_type": "code",
   "execution_count": 5,
   "metadata": {},
   "outputs": [],
   "source": [
    "api_key = 'EoLkeiTnHuhK9OHg54vQ7E3w-G2Rmfm1-VJ2yswgKIOv'\n",
    "location = 'us-south'"
   ]
  },
  {
   "cell_type": "code",
   "execution_count": 6,
   "metadata": {},
   "outputs": [],
   "source": [
    "wml_credentials = {\n",
    "    \"apikey\": api_key,\n",
    "    \"url\": 'https://' + location + '.ml.cloud.ibm.com'\n",
    "}"
   ]
  },
  {
   "cell_type": "markdown",
   "metadata": {},
   "source": [
    "### Install and import the `ibm-watson-machine-learning` package\n",
    "**Note:** `ibm-watson-machine-learning` documentation can be found <a href=\"http://ibm-wml-api-pyclient.mybluemix.net/\" target=\"_blank\" rel=\"noopener no referrer\">here</a>."
   ]
  },
  {
   "cell_type": "code",
   "execution_count": 13,
   "metadata": {},
   "outputs": [
    {
     "name": "stdout",
     "output_type": "stream",
     "text": [
      "Collecting ibm-watson-machine-learning\n",
      "\u001b[?25l  Downloading https://files.pythonhosted.org/packages/9b/e3/786db529c6916dd333b3e7b4a52536d2a727ecd7b1fb3b07dd6e9fa8e938/ibm_watson_machine_learning-1.0.15-py3-none-any.whl (1.5MB)\n",
      "\u001b[K     |████████████████████████████████| 1.5MB 9.2MB/s eta 0:00:01\n",
      "\u001b[?25hRequirement already satisfied, skipping upgrade: tabulate in /opt/conda/envs/Python36/lib/python3.6/site-packages (from ibm-watson-machine-learning) (0.8.2)\n",
      "Requirement already satisfied, skipping upgrade: ibm-cos-sdk==2.7.* in /opt/conda/envs/Python36/lib/python3.6/site-packages (from ibm-watson-machine-learning) (2.7.0)\n",
      "Requirement already satisfied, skipping upgrade: pandas<=1.0.5 in /opt/conda/envs/Python36/lib/python3.6/site-packages (from ibm-watson-machine-learning) (0.24.1)\n",
      "Requirement already satisfied, skipping upgrade: requests in /opt/conda/envs/Python36/lib/python3.6/site-packages (from ibm-watson-machine-learning) (2.21.0)\n",
      "Requirement already satisfied, skipping upgrade: lomond in /opt/conda/envs/Python36/lib/python3.6/site-packages (from ibm-watson-machine-learning) (0.3.3)\n",
      "Requirement already satisfied, skipping upgrade: certifi in /opt/conda/envs/Python36/lib/python3.6/site-packages (from ibm-watson-machine-learning) (2020.6.20)\n",
      "Requirement already satisfied, skipping upgrade: urllib3 in /opt/conda/envs/Python36/lib/python3.6/site-packages (from ibm-watson-machine-learning) (1.24.1)\n",
      "Requirement already satisfied, skipping upgrade: ibm-cos-sdk-core==2.7.0 in /opt/conda/envs/Python36/lib/python3.6/site-packages (from ibm-cos-sdk==2.7.*->ibm-watson-machine-learning) (2.7.0)\n",
      "Requirement already satisfied, skipping upgrade: ibm-cos-sdk-s3transfer==2.7.0 in /opt/conda/envs/Python36/lib/python3.6/site-packages (from ibm-cos-sdk==2.7.*->ibm-watson-machine-learning) (2.7.0)\n",
      "Requirement already satisfied, skipping upgrade: jmespath<1.0.0,>=0.7.1 in /opt/conda/envs/Python36/lib/python3.6/site-packages (from ibm-cos-sdk==2.7.*->ibm-watson-machine-learning) (0.9.3)\n",
      "Requirement already satisfied, skipping upgrade: numpy>=1.12.0 in /opt/conda/envs/Python36/lib/python3.6/site-packages (from pandas<=1.0.5->ibm-watson-machine-learning) (1.15.4)\n",
      "Requirement already satisfied, skipping upgrade: python-dateutil>=2.5.0 in /opt/conda/envs/Python36/lib/python3.6/site-packages (from pandas<=1.0.5->ibm-watson-machine-learning) (2.7.5)\n",
      "Requirement already satisfied, skipping upgrade: pytz>=2011k in /opt/conda/envs/Python36/lib/python3.6/site-packages (from pandas<=1.0.5->ibm-watson-machine-learning) (2018.9)\n",
      "Requirement already satisfied, skipping upgrade: chardet<3.1.0,>=3.0.2 in /opt/conda/envs/Python36/lib/python3.6/site-packages (from requests->ibm-watson-machine-learning) (3.0.4)\n",
      "Requirement already satisfied, skipping upgrade: idna<2.9,>=2.5 in /opt/conda/envs/Python36/lib/python3.6/site-packages (from requests->ibm-watson-machine-learning) (2.8)\n",
      "Requirement already satisfied, skipping upgrade: six>=1.10.0 in /opt/conda/envs/Python36/lib/python3.6/site-packages (from lomond->ibm-watson-machine-learning) (1.12.0)\n",
      "Requirement already satisfied, skipping upgrade: docutils<0.16,>=0.10 in /opt/conda/envs/Python36/lib/python3.6/site-packages (from ibm-cos-sdk-core==2.7.0->ibm-cos-sdk==2.7.*->ibm-watson-machine-learning) (0.14)\n",
      "Installing collected packages: ibm-watson-machine-learning\n",
      "  Found existing installation: ibm-watson-machine-learning 1.0.14\n",
      "    Uninstalling ibm-watson-machine-learning-1.0.14:\n",
      "      Successfully uninstalled ibm-watson-machine-learning-1.0.14\n",
      "Successfully installed ibm-watson-machine-learning-1.0.15\n"
     ]
    }
   ],
   "source": [
    "!pip install -U ibm-watson-machine-learning"
   ]
  },
  {
   "cell_type": "code",
   "execution_count": 7,
   "metadata": {},
   "outputs": [],
   "source": [
    "from ibm_watson_machine_learning import APIClient\n",
    "\n",
    "client = APIClient(wml_credentials)"
   ]
  },
  {
   "cell_type": "markdown",
   "metadata": {},
   "source": [
    "### Working with spaces\n",
    "* Browse to [Deployment Spaces Dashboard](https://dataplatform.cloud.ibm.com/ml-runtime/spaces).\n",
    "You need a space where you deploy your work models.\n",
    "* If you do not have a space, create one:\n",
    "  * Click **New Deployment Space**\n",
    "  * Create an empty space\n",
    "  * Select Cloud Object Storage\n",
    "  * Select Watson Machine Learning instance and press **Create**\n",
    "  * Copy `space_id` and paste it below\n",
    "* If you have a deployment space (from a previous exercise):\n",
    "  * Click the space name.\n",
    "  * Click the **Settings** tab.\n",
    "  * Click the value under **Space ID** to copy it.\n",
    "  * Paste the deployment space ID in the following code cell.\n",
    "  \n",
    "**Tip**: You can also use SDK to prepare the space for your work. More information can be found [here](https://github.com/IBM/watson-machine-learning-samples/blob/master/notebooks/python_sdk/instance-management/Space%20management.ipynb)."
   ]
  },
  {
   "cell_type": "code",
   "execution_count": 8,
   "metadata": {},
   "outputs": [],
   "source": [
    "space_id = 'PASTE YOUR SPACE ID HERE'"
   ]
  },
  {
   "cell_type": "markdown",
   "metadata": {},
   "source": [
    "You can use `list` method to print all existing spaces."
   ]
  },
  {
   "cell_type": "code",
   "execution_count": 17,
   "metadata": {},
   "outputs": [
    {
     "name": "stdout",
     "output_type": "stream",
     "text": [
      "------------------------------------  ----------------  ------------------------\n",
      "ID                                    NAME              CREATED\n",
      "3570d3f2-8595-4e44-9b85-d01336096a49  Exercise 5 Space  2020-09-02T23:03:27.651Z\n",
      "------------------------------------  ----------------  ------------------------\n"
     ]
    }
   ],
   "source": [
    "client.spaces.list(limit=10)"
   ]
  },
  {
   "cell_type": "markdown",
   "metadata": {},
   "source": [
    "To be able to interact with all the resources available in Watson Machine Learning, you need to set the **space** which you will be using."
   ]
  },
  {
   "cell_type": "code",
   "execution_count": 9,
   "metadata": {},
   "outputs": [
    {
     "data": {
      "text/plain": [
       "'SUCCESS'"
      ]
     },
     "execution_count": 9,
     "metadata": {},
     "output_type": "execute_result"
    }
   ],
   "source": [
    "client.set.default_space(space_id)"
   ]
  },
  {
   "cell_type": "markdown",
   "metadata": {},
   "source": [
    "<a id=\"model_def\"></a>\n",
    "# 2. Create model definition\n",
    "### 2.1 Prepare model definition metadata"
   ]
  },
  {
   "cell_type": "code",
   "execution_count": 15,
   "metadata": {},
   "outputs": [],
   "source": [
    "model_definition_metadata = {\n",
    "    client.model_definitions.ConfigurationMetaNames.NAME: \"Hand-written Digit Recognition\",\n",
    "    client.model_definitions.ConfigurationMetaNames.DESCRIPTION: \"Hand-written Digit Recognition\",\n",
    "    client.model_definitions.ConfigurationMetaNames.COMMAND:  \"python3 tensorflow_mnist_softmax.py --trainingIters 20\",\n",
    "    client.model_definitions.ConfigurationMetaNames.PLATFORM: {\"name\": \"python\", \"versions\": [\"3.6\"]},\n",
    "    client.model_definitions.ConfigurationMetaNames.VERSION: \"2.0\",\n",
    "    client.model_definitions.ConfigurationMetaNames.SPACE_UID: space_id\n",
    "}"
   ]
  },
  {
   "cell_type": "markdown",
   "metadata": {},
   "source": [
    "### 2.2  Get sample model definition content file from git"
   ]
  },
  {
   "cell_type": "code",
   "execution_count": 14,
   "metadata": {},
   "outputs": [
    {
     "name": "stdout",
     "output_type": "stream",
     "text": [
      "Requirement already satisfied: wget in /opt/conda/envs/Python36/lib/python3.6/site-packages (3.2)\n",
      "tf-softmax-model.zip is already downloaded.\n"
     ]
    }
   ],
   "source": [
    "!pip install wget\n",
    "import wget\n",
    "\n",
    "filename = 'tf-softmax-model.zip'\n",
    "\n",
    "if os.path.isfile(filename):\n",
    "    print( filename + ' is already downloaded.' )\n",
    "else:\n",
    "    filename = wget.download('https://github.com/IBM/watson-machine-learning-samples/raw/master/definitions/tensorflow/tf-softmax-model.zip')"
   ]
  },
  {
   "cell_type": "markdown",
   "metadata": {},
   "source": [
    "### 2.3  Publish model definition"
   ]
  },
  {
   "cell_type": "code",
   "execution_count": 16,
   "metadata": {},
   "outputs": [
    {
     "ename": "ApiRequestFailure",
     "evalue": "Failure during creating new attachment. (POST https://api.dataplatform.cloud.ibm.com/v2/assets/26803700-7224-4bba-9851-f8e57982f50c/attachments?version=2020-08-01&space_id=3570d3f2-8595-4e44-9b85-d01336096a49)\nStatus code: 403, body: {\"trace\":\"4gan8uwigvve5trfwqxmqcec1\",\"errors\":[{\"code\":\"dependent_service_error\",\"message\":\"ATTSV3016E: Unable to initialize MultiPart Upload. Root cause: 'NGPDL4023E: Storage Server Exception: status code: '403'  message: 'The AWS Access Key ID you provided does not exist in our records. (Service: S3 API; Status Code: 403; Error Code: InvalidAccessKeyId; Request ID: 45914f06-b25f-4cb8-b610-5d9a9ecc5b98)'  error code: 'InvalidAccessKeyId''\"}]}",
     "output_type": "error",
     "traceback": [
      "\u001b[0;31m---------------------------------------------------------------------------\u001b[0m",
      "\u001b[0;31mApiRequestFailure\u001b[0m                         Traceback (most recent call last)",
      "\u001b[0;32m<ipython-input-16-ba4b13032934>\u001b[0m in \u001b[0;36m<module>\u001b[0;34m\u001b[0m\n\u001b[0;32m----> 1\u001b[0;31m \u001b[0mdefinition_details\u001b[0m \u001b[0;34m=\u001b[0m \u001b[0mclient\u001b[0m\u001b[0;34m.\u001b[0m\u001b[0mmodel_definitions\u001b[0m\u001b[0;34m.\u001b[0m\u001b[0mstore\u001b[0m\u001b[0;34m(\u001b[0m\u001b[0mfilename\u001b[0m\u001b[0;34m,\u001b[0m \u001b[0mmodel_definition_metadata\u001b[0m\u001b[0;34m)\u001b[0m\u001b[0;34m\u001b[0m\u001b[0;34m\u001b[0m\u001b[0m\n\u001b[0m",
      "\u001b[0;32m/opt/conda/envs/Python36/lib/python3.6/site-packages/ibm_watson_machine_learning/model_definition.py\u001b[0m in \u001b[0;36mstore\u001b[0;34m(self, model_definition, meta_props)\u001b[0m\n\u001b[1;32m    326\u001b[0m         \u001b[0;32mexcept\u001b[0m \u001b[0mException\u001b[0m \u001b[0;32mas\u001b[0m \u001b[0me\u001b[0m\u001b[0;34m:\u001b[0m\u001b[0;34m\u001b[0m\u001b[0;34m\u001b[0m\u001b[0m\n\u001b[1;32m    327\u001b[0m \u001b[0;34m\u001b[0m\u001b[0m\n\u001b[0;32m--> 328\u001b[0;31m             \u001b[0;32mraise\u001b[0m \u001b[0me\u001b[0m\u001b[0;34m\u001b[0m\u001b[0;34m\u001b[0m\u001b[0m\n\u001b[0m\u001b[1;32m    329\u001b[0m \u001b[0;34m\u001b[0m\u001b[0m\n\u001b[1;32m    330\u001b[0m \u001b[0;34m\u001b[0m\u001b[0m\n",
      "\u001b[0;32m/opt/conda/envs/Python36/lib/python3.6/site-packages/ibm_watson_machine_learning/model_definition.py\u001b[0m in \u001b[0;36mstore\u001b[0;34m(self, model_definition, meta_props)\u001b[0m\n\u001b[1;32m    257\u001b[0m                          \u001b[0mjson\u001b[0m\u001b[0;34m=\u001b[0m\u001b[0mmodel_definition_attachment_def\u001b[0m\u001b[0;34m,\u001b[0m\u001b[0;34m\u001b[0m\u001b[0;34m\u001b[0m\u001b[0m\n\u001b[1;32m    258\u001b[0m                          verify=False)\n\u001b[0;32m--> 259\u001b[0;31m                 \u001b[0mattachment_details\u001b[0m \u001b[0;34m=\u001b[0m \u001b[0mself\u001b[0m\u001b[0;34m.\u001b[0m\u001b[0m_handle_response\u001b[0m\u001b[0;34m(\u001b[0m\u001b[0;36m201\u001b[0m\u001b[0;34m,\u001b[0m \u001b[0;34mu'creating new attachment'\u001b[0m\u001b[0;34m,\u001b[0m \u001b[0mattachment_response\u001b[0m\u001b[0;34m)\u001b[0m\u001b[0;34m\u001b[0m\u001b[0;34m\u001b[0m\u001b[0m\n\u001b[0m\u001b[1;32m    260\u001b[0m                 \u001b[0;32mif\u001b[0m \u001b[0mattachment_response\u001b[0m\u001b[0;34m.\u001b[0m\u001b[0mstatus_code\u001b[0m \u001b[0;34m==\u001b[0m \u001b[0;36m201\u001b[0m\u001b[0;34m:\u001b[0m\u001b[0;34m\u001b[0m\u001b[0;34m\u001b[0m\u001b[0m\n\u001b[1;32m    261\u001b[0m                     \u001b[0mattachment_id\u001b[0m \u001b[0;34m=\u001b[0m \u001b[0mattachment_details\u001b[0m\u001b[0;34m[\u001b[0m\u001b[0;34m'attachment_id'\u001b[0m\u001b[0;34m]\u001b[0m\u001b[0;34m\u001b[0m\u001b[0;34m\u001b[0m\u001b[0m\n",
      "\u001b[0;32m/opt/conda/envs/Python36/lib/python3.6/site-packages/ibm_watson_machine_learning/wml_resource.py\u001b[0m in \u001b[0;36m_handle_response\u001b[0;34m(self, expected_status_code, operationName, response, json_response)\u001b[0m\n\u001b[1;32m     76\u001b[0m                 \u001b[0;32mreturn\u001b[0m \u001b[0mresponse\u001b[0m\u001b[0;34m.\u001b[0m\u001b[0mtext\u001b[0m\u001b[0;34m\u001b[0m\u001b[0;34m\u001b[0m\u001b[0m\n\u001b[1;32m     77\u001b[0m         \u001b[0;32melse\u001b[0m\u001b[0;34m:\u001b[0m\u001b[0;34m\u001b[0m\u001b[0;34m\u001b[0m\u001b[0m\n\u001b[0;32m---> 78\u001b[0;31m             \u001b[0;32mraise\u001b[0m \u001b[0mApiRequestFailure\u001b[0m\u001b[0;34m(\u001b[0m\u001b[0;34mu'Failure during {}.'\u001b[0m\u001b[0;34m.\u001b[0m\u001b[0mformat\u001b[0m\u001b[0;34m(\u001b[0m\u001b[0moperationName\u001b[0m\u001b[0;34m)\u001b[0m\u001b[0;34m,\u001b[0m \u001b[0mresponse\u001b[0m\u001b[0;34m)\u001b[0m\u001b[0;34m\u001b[0m\u001b[0;34m\u001b[0m\u001b[0m\n\u001b[0m\u001b[1;32m     79\u001b[0m \u001b[0;34m\u001b[0m\u001b[0m\n\u001b[1;32m     80\u001b[0m     \u001b[0;34m@\u001b[0m\u001b[0mstaticmethod\u001b[0m\u001b[0;34m\u001b[0m\u001b[0;34m\u001b[0m\u001b[0m\n",
      "\u001b[0;31mApiRequestFailure\u001b[0m: Failure during creating new attachment. (POST https://api.dataplatform.cloud.ibm.com/v2/assets/26803700-7224-4bba-9851-f8e57982f50c/attachments?version=2020-08-01&space_id=3570d3f2-8595-4e44-9b85-d01336096a49)\nStatus code: 403, body: {\"trace\":\"4gan8uwigvve5trfwqxmqcec1\",\"errors\":[{\"code\":\"dependent_service_error\",\"message\":\"ATTSV3016E: Unable to initialize MultiPart Upload. Root cause: 'NGPDL4023E: Storage Server Exception: status code: '403'  message: 'The AWS Access Key ID you provided does not exist in our records. (Service: S3 API; Status Code: 403; Error Code: InvalidAccessKeyId; Request ID: 45914f06-b25f-4cb8-b610-5d9a9ecc5b98)'  error code: 'InvalidAccessKeyId''\"}]}"
     ]
    }
   ],
   "source": [
    "definition_details = client.model_definitions.store(filename, model_definition_metadata)"
   ]
  },
  {
   "cell_type": "code",
   "execution_count": 16,
   "metadata": {},
   "outputs": [
    {
     "name": "stdout",
     "output_type": "stream",
     "text": [
      "b9a4d7fa-683c-4fac-b79c-59274ae96ff1\n"
     ]
    }
   ],
   "source": [
    "model_definition_id = client.model_definitions.get_id(definition_details)\n",
    "print(model_definition_id)"
   ]
  },
  {
   "cell_type": "markdown",
   "metadata": {},
   "source": [
    "#### List model definitions"
   ]
  },
  {
   "cell_type": "code",
   "execution_count": null,
   "metadata": {},
   "outputs": [],
   "source": [
    "client.model_definitions.list(limit=5)"
   ]
  },
  {
   "cell_type": "markdown",
   "metadata": {},
   "source": [
    "<a id=\"training\"></a>\n",
    "# 3. Train model"
   ]
  },
  {
   "cell_type": "markdown",
   "metadata": {},
   "source": [
    "### 3.1 Prepare training metadata"
   ]
  },
  {
   "cell_type": "code",
   "execution_count": 17,
   "metadata": {},
   "outputs": [],
   "source": [
    "training_metadata = training_metadata = {\n",
    "   client.training.ConfigurationMetaNames.NAME: \"Hand-written Digit Recognition\",\n",
    "    client.training.ConfigurationMetaNames.SPACE_UID: space_id,\n",
    "    client.training.ConfigurationMetaNames.DESCRIPTION: \"Hand-written Digit Recognition\",\n",
    "    client.training.ConfigurationMetaNames.TAGS :[{\n",
    "      \"value\": \"tags_style_transfer_gogh\",\n",
    "      \"description\": \"dome gogh\"\n",
    "    }],\n",
    "    client.training.ConfigurationMetaNames.TRAINING_RESULTS_REFERENCE:  {\n",
    "    \"name\": \"MNIST results\",\n",
    "    \"connection\": {\n",
    "            \"endpoint_url\": service_endpoint,\n",
    "            \"access_key_id\": cos_credentials['cos_hmac_keys']['access_key_id'],\n",
    "            \"secret_access_key\": cos_credentials['cos_hmac_keys']['secret_access_key']\n",
    "      },\n",
    "      \"location\": {\n",
    "        \"bucket\": buckets[0]\n",
    "      },\n",
    "    \"type\": \"s3\"\n",
    "  },\n",
    "  client.training.ConfigurationMetaNames.MODEL_DEFINITION:{\n",
    "        \"id\": model_definition_id,\n",
    "        \"command\":  \"python3 tensorflow_mnist_softmax.py --trainingIters 20\",\n",
    "        \"hardware_spec\": {\n",
    "          \"name\": \"K80\",\n",
    "          \"nodes\": 1\n",
    "        },\n",
    "        \"software_spec\": {\n",
    "          \"name\": \"tensorflow_1.15-py3.6\"\n",
    "        },\n",
    "        \"parameters\": {\n",
    "          \"name\": \"Hand-written Digit Recognition\",\n",
    "          \"description\": \"Hand-written Digit Recognition\"\n",
    "        }\n",
    "  },\n",
    "  client.training.ConfigurationMetaNames.TRAINING_DATA_REFERENCES: [\n",
    "       {\n",
    "      \"name\": \"training_input_data\",\n",
    "      \"type\": \"s3\",\n",
    "      \"connection\": {\n",
    "        \"endpoint_url\": service_endpoint,\n",
    "        \"access_key_id\": cos_credentials['cos_hmac_keys']['access_key_id'],\n",
    "        \"secret_access_key\": cos_credentials['cos_hmac_keys']['secret_access_key']\n",
    "      },\n",
    "      \"location\": {\n",
    "        \"bucket\": buckets[1]\n",
    "      },\n",
    "      \"schema\": {\n",
    "        \"id\":\"idmlp_schema\",\n",
    "        \"fields\": [\n",
    "          {\n",
    "            \"name\": \"text\",\n",
    "            \"type\": \"string\"\n",
    "          }\n",
    "        ]\n",
    "      }\n",
    "    }\n",
    "  ]\n",
    "}"
   ]
  },
  {
   "cell_type": "markdown",
   "metadata": {},
   "source": [
    "### 3.2 Train model in background"
   ]
  },
  {
   "cell_type": "code",
   "execution_count": 18,
   "metadata": {},
   "outputs": [],
   "source": [
    "training = client.training.run(training_metadata)"
   ]
  },
  {
   "cell_type": "markdown",
   "metadata": {},
   "source": [
    "### 3.3 Get training id and status"
   ]
  },
  {
   "cell_type": "code",
   "execution_count": 19,
   "metadata": {},
   "outputs": [],
   "source": [
    "training_id = client.training.get_uid(training)"
   ]
  },
  {
   "cell_type": "code",
   "execution_count": 23,
   "metadata": {
    "scrolled": true
   },
   "outputs": [
    {
     "data": {
      "text/plain": [
       "'completed'"
      ]
     },
     "execution_count": 23,
     "metadata": {},
     "output_type": "execute_result"
    }
   ],
   "source": [
    "client.training.get_status(training_id)[\"state\"]"
   ]
  },
  {
   "cell_type": "markdown",
   "metadata": {},
   "source": [
    "### 3.4 Get training details"
   ]
  },
  {
   "cell_type": "code",
   "execution_count": null,
   "metadata": {},
   "outputs": [],
   "source": [
    "training_details = client.training.get_details(training_id)\n",
    "print(json.dumps(training_details, indent=2))"
   ]
  },
  {
   "cell_type": "markdown",
   "metadata": {},
   "source": [
    "#### List trainings"
   ]
  },
  {
   "cell_type": "code",
   "execution_count": null,
   "metadata": {},
   "outputs": [],
   "source": [
    "client.training.list(limit=5)"
   ]
  },
  {
   "cell_type": "markdown",
   "metadata": {},
   "source": [
    "#### Cancel training"
   ]
  },
  {
   "cell_type": "markdown",
   "metadata": {},
   "source": [
    "You can cancel the training run by calling the method below.  \n",
    "**Tip**: If you want to delete train runs and results, add `hard_delete=True` as a parameter."
   ]
  },
  {
   "cell_type": "raw",
   "metadata": {},
   "source": [
    "client.training.cancel(training_id)"
   ]
  },
  {
   "cell_type": "markdown",
   "metadata": {},
   "source": [
    "<a id=\"persist\"></a>\n",
    "# 4. Persist trained model"
   ]
  },
  {
   "cell_type": "markdown",
   "metadata": {},
   "source": [
    "### 4.1 Download trained model from COS"
   ]
  },
  {
   "cell_type": "code",
   "execution_count": 25,
   "metadata": {},
   "outputs": [],
   "source": [
    "uid = client.training.get_details(training_id)['entity']['results_reference']['location']['logs']"
   ]
  },
  {
   "cell_type": "markdown",
   "metadata": {},
   "source": [
    "#### Download model from COS"
   ]
  },
  {
   "cell_type": "code",
   "execution_count": 26,
   "metadata": {},
   "outputs": [],
   "source": [
    "bucket_name = buckets[0]\n",
    "bucket_obj = cos.Bucket(bucket_name)\n",
    "\n",
    "model_path = \"\"\n",
    "for obj in bucket_obj.objects.iterator():\n",
    "    if training_id in obj.key and uid in obj.key and obj.key.endswith(\".zip\"):\n",
    "        model_path = obj.key\n",
    "        break\n",
    "\n",
    "model_name = model_path.split(\"/\")[-1]\n",
    "bucket_obj.download_file(model_path, model_name)"
   ]
  },
  {
   "cell_type": "markdown",
   "metadata": {},
   "source": [
    "#### Unpack model and compress it to tar.gz format"
   ]
  },
  {
   "cell_type": "code",
   "execution_count": 27,
   "metadata": {},
   "outputs": [],
   "source": [
    "import zipfile\n",
    "import tarfile\n",
    "\n",
    "with zipfile.ZipFile(model_name, \"r\") as zip_ref:\n",
    "    zip_ref.extractall()\n",
    "\n",
    "model_name = \"model.tar.gz\"\n",
    "with tarfile.open(model_name, \"w:gz\") as tar:\n",
    "    for file in (\"saved_model.pb\", \"variables\"):\n",
    "        tar.add(file)"
   ]
  },
  {
   "cell_type": "markdown",
   "metadata": {},
   "source": [
    "### 4.2 Publish model"
   ]
  },
  {
   "cell_type": "code",
   "execution_count": 28,
   "metadata": {},
   "outputs": [],
   "source": [
    "software_spec_uid = client.software_specifications.get_uid_by_name('tensorflow_1.15-py3.6')"
   ]
  },
  {
   "cell_type": "code",
   "execution_count": 29,
   "metadata": {},
   "outputs": [],
   "source": [
    "model_meta_props = {client.repository.ModelMetaNames.NAME: \"TF Mnist Model\",\n",
    "                    client.repository.ModelMetaNames.TYPE: \"tensorflow_1.15\",\n",
    "                    client.repository.ModelMetaNames.SOFTWARE_SPEC_UID: software_spec_uid\n",
    "                    }\n",
    "\n",
    "published_model_details = client.repository.store_model(model='model.tar.gz', meta_props=model_meta_props)\n",
    "model_uid = client.repository.get_model_uid(published_model_details)"
   ]
  },
  {
   "cell_type": "markdown",
   "metadata": {},
   "source": [
    "### 4.3 Get model details"
   ]
  },
  {
   "cell_type": "code",
   "execution_count": 30,
   "metadata": {},
   "outputs": [
    {
     "name": "stdout",
     "output_type": "stream",
     "text": [
      "{\n",
      "  \"entity\": {\n",
      "    \"software_spec\": {\n",
      "      \"id\": \"2b73a275-7cbf-420b-a912-eae7f436e0bc\",\n",
      "      \"name\": \"tensorflow_1.15-py3.6\"\n",
      "    },\n",
      "    \"type\": \"tensorflow_1.15\"\n",
      "  },\n",
      "  \"metadata\": {\n",
      "    \"created_at\": \"2020-08-13T07:42:54.543Z\",\n",
      "    \"id\": \"c592b0b8-b07f-4fa7-930f-14a23aed49a8\",\n",
      "    \"modified_at\": \"2020-08-13T07:42:56.860Z\",\n",
      "    \"name\": \"TF Mnist Model\",\n",
      "    \"owner\": \"IBMid-5500067NJD\",\n",
      "    \"space_id\": \"74133c06-dce2-4dfc-b913-2e0dc8efc750\"\n",
      "  }\n",
      "}\n"
     ]
    }
   ],
   "source": [
    "model_details = client.repository.get_details(model_uid)\n",
    "print(json.dumps(model_details, indent=2))"
   ]
  },
  {
   "cell_type": "markdown",
   "metadata": {},
   "source": [
    "#### List stored models"
   ]
  },
  {
   "cell_type": "code",
   "execution_count": null,
   "metadata": {},
   "outputs": [],
   "source": [
    "client.repository.list_models(limit=5)"
   ]
  },
  {
   "cell_type": "markdown",
   "metadata": {},
   "source": [
    "<a id=\"deploy\"></a>\n",
    "# 5. Deploy and score"
   ]
  },
  {
   "cell_type": "markdown",
   "metadata": {},
   "source": [
    "### 5.1 Create online deployment for published model"
   ]
  },
  {
   "cell_type": "markdown",
   "metadata": {},
   "source": [
    "You can deploy the stored model as a web service (online) by running the code in the following cell."
   ]
  },
  {
   "cell_type": "code",
   "execution_count": 31,
   "metadata": {},
   "outputs": [
    {
     "name": "stdout",
     "output_type": "stream",
     "text": [
      "\n",
      "\n",
      "#######################################################################################\n",
      "\n",
      "Synchronous deployment creation for uid: 'c592b0b8-b07f-4fa7-930f-14a23aed49a8' started\n",
      "\n",
      "#######################################################################################\n",
      "\n",
      "\n",
      "initializing\n",
      "ready\n",
      "\n",
      "\n",
      "------------------------------------------------------------------------------------------------\n",
      "Successfully finished deployment creation, deployment_uid='b78beeb5-84b6-4a3b-9abc-a740ad781d9f'\n",
      "------------------------------------------------------------------------------------------------\n",
      "\n",
      "\n"
     ]
    }
   ],
   "source": [
    "deployment = client.deployments.create(model_uid, meta_props={\n",
    "                                            client.deployments.ConfigurationMetaNames.NAME:\"TF Mnist deployment\",\n",
    "                                            client.deployments.ConfigurationMetaNames.ONLINE:{}})\n",
    "\n",
    "scoring_url = client.deployments.get_scoring_href(deployment)\n",
    "deployment_uid = client.deployments.get_uid(deployment)"
   ]
  },
  {
   "cell_type": "markdown",
   "metadata": {},
   "source": [
    "### 5.2 Get deployments details"
   ]
  },
  {
   "cell_type": "code",
   "execution_count": 32,
   "metadata": {},
   "outputs": [
    {
     "name": "stdout",
     "output_type": "stream",
     "text": [
      "{\n",
      "  \"entity\": {\n",
      "    \"asset\": {\n",
      "      \"id\": \"c592b0b8-b07f-4fa7-930f-14a23aed49a8\"\n",
      "    },\n",
      "    \"custom\": {},\n",
      "    \"hardware_spec\": {\n",
      "      \"id\": \"Not_Applicable\",\n",
      "      \"name\": \"S\",\n",
      "      \"num_nodes\": 1\n",
      "    },\n",
      "    \"name\": \"TF Mnist deployment\",\n",
      "    \"online\": {},\n",
      "    \"space_id\": \"74133c06-dce2-4dfc-b913-2e0dc8efc750\",\n",
      "    \"status\": {\n",
      "      \"online_url\": {\n",
      "        \"url\": \"https://wml-fvt.ml.test.cloud.ibm.com/ml/v4/deployments/b78beeb5-84b6-4a3b-9abc-a740ad781d9f/predictions\"\n",
      "      },\n",
      "      \"state\": \"ready\"\n",
      "    }\n",
      "  },\n",
      "  \"metadata\": {\n",
      "    \"created_at\": \"2020-08-13T07:43:03.139Z\",\n",
      "    \"id\": \"b78beeb5-84b6-4a3b-9abc-a740ad781d9f\",\n",
      "    \"modified_at\": \"2020-08-13T07:43:03.139Z\",\n",
      "    \"name\": \"TF Mnist deployment\",\n",
      "    \"owner\": \"IBMid-5500067NJD\",\n",
      "    \"space_id\": \"74133c06-dce2-4dfc-b913-2e0dc8efc750\"\n",
      "  }\n",
      "}\n"
     ]
    }
   ],
   "source": [
    "deployments_details = client.deployments.get_details(deployment_uid)\n",
    "print(json.dumps(deployments_details, indent=2))"
   ]
  },
  {
   "cell_type": "markdown",
   "metadata": {},
   "source": [
    "#### List deployments"
   ]
  },
  {
   "cell_type": "code",
   "execution_count": null,
   "metadata": {},
   "outputs": [],
   "source": [
    "client.deployments.list(limit=5)"
   ]
  },
  {
   "cell_type": "markdown",
   "metadata": {},
   "source": [
    "### 5.3 Score deployed model"
   ]
  },
  {
   "cell_type": "markdown",
   "metadata": {},
   "source": [
    "Prepare sample scoring data to score deployed model."
   ]
  },
  {
   "cell_type": "code",
   "execution_count": null,
   "metadata": {},
   "outputs": [],
   "source": [
    "import wget\n",
    "\n",
    "dataset_filename='mnist.npz'\n",
    "\n",
    "if not os.path.isfile(dataset_filename):\n",
    "    dataset_filename = wget.download('https://github.com/IBM/watson-machine-learning-samples/raw/master/data/mnist/mnist.npz')"
   ]
  },
  {
   "cell_type": "code",
   "execution_count": null,
   "metadata": {
    "pycharm": {
     "name": "#%%\n"
    }
   },
   "outputs": [],
   "source": [
    "import numpy as np\n",
    "\n",
    "mnist_dataset = np.load(dataset_filename)\n",
    "x_test = mnist_dataset['x_test']"
   ]
  },
  {
   "cell_type": "code",
   "execution_count": 35,
   "metadata": {},
   "outputs": [],
   "source": [
    "image_1 = x_test[0].ravel() / 255\n",
    "image_2 = x_test[1].ravel() / 255"
   ]
  },
  {
   "cell_type": "code",
   "execution_count": 37,
   "metadata": {},
   "outputs": [],
   "source": [
    "%matplotlib inline\n",
    "import matplotlib.pyplot as plt"
   ]
  },
  {
   "cell_type": "code",
   "execution_count": 38,
   "metadata": {},
   "outputs": [
    {
     "data": {
      "image/png": "[encoded data removed]",
      "text/plain": [
       "<Figure size 432x288 with 2 Axes>"
      ]
     },
     "metadata": {
      "needs_background": "light"
     },
     "output_type": "display_data"
    }
   ],
   "source": [
    "for i, image in enumerate([x_test[0], x_test[1]]):\n",
    "    plt.subplot(2, 2, i + 1)\n",
    "    plt.axis('off')\n",
    "    plt.imshow(image, cmap=plt.cm.gray_r, interpolation='nearest')"
   ]
  },
  {
   "cell_type": "markdown",
   "metadata": {},
   "source": [
    "Build scoring ditionary consisting of two digits and send it to deployed model to get predictions."
   ]
  },
  {
   "cell_type": "code",
   "execution_count": 39,
   "metadata": {},
   "outputs": [
    {
     "name": "stdout",
     "output_type": "stream",
     "text": [
      "Scoring result:\n",
      "{\n",
      "  \"predictions\": [\n",
      "    {\n",
      "      \"values\": [\n",
      "        7,\n",
      "        2\n",
      "      ]\n",
      "    }\n",
      "  ]\n",
      "}\n"
     ]
    }
   ],
   "source": [
    "scoring_payload = {\n",
    "    client.deployments.ScoringMetaNames.INPUT_DATA : [\n",
    "        {'values': [image_1.tolist(), image_2.tolist()]}\n",
    "    ]\n",
    "}\n",
    "scores = client.deployments.score(deployment_uid, meta_props=scoring_payload)\n",
    "print(\"Scoring result:\\n\" + json.dumps(scores, indent=2))"
   ]
  },
  {
   "cell_type": "markdown",
   "metadata": {},
   "source": [
    "<a id=\"clean\"></a>\n",
    "# 6. Clean up"
   ]
  },
  {
   "cell_type": "markdown",
   "metadata": {},
   "source": [
    "If you want to clean up all created assets:\n",
    "- experiments\n",
    "- trainings\n",
    "- pipelines\n",
    "- model definitions\n",
    "- models\n",
    "- functions\n",
    "- deployments\n",
    "\n",
    "please follow up this sample [notebook](https://github.com/IBM/watson-machine-learning-samples/blob/master/notebooks/python_sdk/instance-management/Machine%20Learning%20artifacts%20management.ipynb)."
   ]
  },
  {
   "cell_type": "markdown",
   "metadata": {},
   "source": [
    "<a id=\"summary\"></a>\n",
    "# 7. Summary and next steps     "
   ]
  },
  {
   "cell_type": "markdown",
   "metadata": {},
   "source": [
    " You successfully completed this notebook! You learned how to use `ibm-watson-machine-learning-client` to train and score TensorFlow models. Check out our [Online Documentation](https://dataplatform.ibm.com/docs/content/analyze-data/wml-setup.html) for more samples, tutorials, documentation, how-tos, and blog posts. "
   ]
  },
  {
   "cell_type": "markdown",
   "metadata": {},
   "source": [
    "### Author\n",
    "\n",
    "**Jan Sołtysik**, Intern in Watson Machine Learning."
   ]
  },
  {
   "cell_type": "markdown",
   "metadata": {},
   "source": [
    "Copyright © 2020 IBM. This notebook and its source code are released under the terms of the MIT License."
   ]
  },
  {
   "cell_type": "markdown",
   "metadata": {},
   "source": [
    "<div style=\"background:#F5F7FA; height:110px; padding: 2em; font-size:14px;\">\n",
    "<span style=\"font-size:18px;color:#152935;\">Love this notebook? </span>\n",
    "<span style=\"font-size:15px;color:#152935;float:right;margin-right:40px;\">Don't have an account yet?</span><br>\n",
    "<span style=\"color:#5A6872;\">Share it with your colleagues and help them discover the power of Watson Studio!</span>\n",
    "<span style=\"border: 1px solid #3d70b2;padding:8px;float:right;margin-right:40px; color:#3d70b2;\"><a href=\"https://ibm.co/wsnotebooks\" target=\"_blank\" style=\"color: #3d70b2;text-decoration: none;\">Sign Up</a></span><br>\n",
    "</div>"
   ]
  }
 ],
 "metadata": {
  "kernelspec": {
   "display_name": "Python 3.6",
   "language": "python",
   "name": "python3"
  },
  "language_info": {
   "codemirror_mode": {
    "name": "ipython",
    "version": 3
   },
   "file_extension": ".py",
   "mimetype": "text/x-python",
   "name": "python",
   "nbconvert_exporter": "python",
   "pygments_lexer": "ipython3",
   "version": "3.6.9"
  },
  "pycharm": {
   "stem_cell": {
    "cell_type": "raw",
    "metadata": {
     "collapsed": false
    },
    "source": []
   }
  }
 },
 "nbformat": 4,
 "nbformat_minor": 4
}
